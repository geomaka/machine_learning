{
 "cells": [
  {
   "cell_type": "code",
   "execution_count": 14,
   "metadata": {},
   "outputs": [
    {
     "name": "stdout",
     "output_type": "stream",
     "text": [
      "       longitude  latitude  housing_median_age  total_rooms  total_bedrooms  \\\n",
      "0        -114.31     34.19                15.0       5612.0          1283.0   \n",
      "1        -114.47     34.40                19.0       7650.0          1901.0   \n",
      "2        -114.56     33.69                17.0        720.0           174.0   \n",
      "3        -114.57     33.64                14.0       1501.0           337.0   \n",
      "4        -114.57     33.57                20.0       1454.0           326.0   \n",
      "...          ...       ...                 ...          ...             ...   \n",
      "16995    -124.26     40.58                52.0       2217.0           394.0   \n",
      "16996    -124.27     40.69                36.0       2349.0           528.0   \n",
      "16997    -124.30     41.84                17.0       2677.0           531.0   \n",
      "16998    -124.30     41.80                19.0       2672.0           552.0   \n",
      "16999    -124.35     40.54                52.0       1820.0           300.0   \n",
      "\n",
      "       population  households  median_income  median_house_value  \n",
      "0          1015.0       472.0         1.4936             66900.0  \n",
      "1          1129.0       463.0         1.8200             80100.0  \n",
      "2           333.0       117.0         1.6509             85700.0  \n",
      "3           515.0       226.0         3.1917             73400.0  \n",
      "4           624.0       262.0         1.9250             65500.0  \n",
      "...           ...         ...            ...                 ...  \n",
      "16995       907.0       369.0         2.3571            111400.0  \n",
      "16996      1194.0       465.0         2.5179             79000.0  \n",
      "16997      1244.0       456.0         3.0313            103600.0  \n",
      "16998      1298.0       478.0         1.9797             85800.0  \n",
      "16999       806.0       270.0         3.0147             94600.0  \n",
      "\n",
      "[17000 rows x 9 columns]\n"
     ]
    }
   ],
   "source": [
    "import numpy as np\n",
    "import pandas as pd\n",
    "\n",
    "df = pd.read_csv('california_housing_train_reduced.csv')\n",
    "\n",
    "print(df)"
   ]
  },
  {
   "cell_type": "code",
   "execution_count": 15,
   "metadata": {},
   "outputs": [
    {
     "data": {
      "text/plain": [
       "longitude             0.047010\n",
       "latitude             -0.038773\n",
       "housing_median_age   -0.360984\n",
       "total_rooms           1.000000\n",
       "total_bedrooms        0.928403\n",
       "population            0.860170\n",
       "households            0.919018\n",
       "median_income         0.195383\n",
       "median_house_value    0.130991\n",
       "Name: total_rooms, dtype: float64"
      ]
     },
     "execution_count": 15,
     "metadata": {},
     "output_type": "execute_result"
    }
   ],
   "source": [
    "df.corr()['total_rooms'] # finding the correlation of total_bedrooms with the other factors\n",
    "# Correlation is a statistical measure that describes the strength and direction of a relationship between two variables. It ranges from -1 to 1:\n",
    "\n",
    "# +1 indicates a perfect positive correlation: as one variable increases, the other also increases proportionally.\n",
    "# -1 indicates a perfect negative correlation: as one variable increases, the other decreases proportionally.\n",
    "# 0 indicates no correlation: there’s no relationship between the variables."
   ]
  },
  {
   "cell_type": "code",
   "execution_count": 16,
   "metadata": {},
   "outputs": [
    {
     "data": {
      "text/html": [
       "<div>\n",
       "<style scoped>\n",
       "    .dataframe tbody tr th:only-of-type {\n",
       "        vertical-align: middle;\n",
       "    }\n",
       "\n",
       "    .dataframe tbody tr th {\n",
       "        vertical-align: top;\n",
       "    }\n",
       "\n",
       "    .dataframe thead th {\n",
       "        text-align: right;\n",
       "    }\n",
       "</style>\n",
       "<table border=\"1\" class=\"dataframe\">\n",
       "  <thead>\n",
       "    <tr style=\"text-align: right;\">\n",
       "      <th></th>\n",
       "      <th>total_rooms</th>\n",
       "      <th>population</th>\n",
       "      <th>households</th>\n",
       "      <th>bedrooms</th>\n",
       "    </tr>\n",
       "  </thead>\n",
       "  <tbody>\n",
       "    <tr>\n",
       "      <th>0</th>\n",
       "      <td>5612.0</td>\n",
       "      <td>1015.0</td>\n",
       "      <td>472.0</td>\n",
       "      <td>1283.0</td>\n",
       "    </tr>\n",
       "    <tr>\n",
       "      <th>1</th>\n",
       "      <td>7650.0</td>\n",
       "      <td>1129.0</td>\n",
       "      <td>463.0</td>\n",
       "      <td>1901.0</td>\n",
       "    </tr>\n",
       "    <tr>\n",
       "      <th>2</th>\n",
       "      <td>720.0</td>\n",
       "      <td>333.0</td>\n",
       "      <td>117.0</td>\n",
       "      <td>174.0</td>\n",
       "    </tr>\n",
       "    <tr>\n",
       "      <th>3</th>\n",
       "      <td>1501.0</td>\n",
       "      <td>515.0</td>\n",
       "      <td>226.0</td>\n",
       "      <td>337.0</td>\n",
       "    </tr>\n",
       "    <tr>\n",
       "      <th>4</th>\n",
       "      <td>1454.0</td>\n",
       "      <td>624.0</td>\n",
       "      <td>262.0</td>\n",
       "      <td>326.0</td>\n",
       "    </tr>\n",
       "    <tr>\n",
       "      <th>...</th>\n",
       "      <td>...</td>\n",
       "      <td>...</td>\n",
       "      <td>...</td>\n",
       "      <td>...</td>\n",
       "    </tr>\n",
       "    <tr>\n",
       "      <th>16995</th>\n",
       "      <td>2217.0</td>\n",
       "      <td>907.0</td>\n",
       "      <td>369.0</td>\n",
       "      <td>394.0</td>\n",
       "    </tr>\n",
       "    <tr>\n",
       "      <th>16996</th>\n",
       "      <td>2349.0</td>\n",
       "      <td>1194.0</td>\n",
       "      <td>465.0</td>\n",
       "      <td>528.0</td>\n",
       "    </tr>\n",
       "    <tr>\n",
       "      <th>16997</th>\n",
       "      <td>2677.0</td>\n",
       "      <td>1244.0</td>\n",
       "      <td>456.0</td>\n",
       "      <td>531.0</td>\n",
       "    </tr>\n",
       "    <tr>\n",
       "      <th>16998</th>\n",
       "      <td>2672.0</td>\n",
       "      <td>1298.0</td>\n",
       "      <td>478.0</td>\n",
       "      <td>552.0</td>\n",
       "    </tr>\n",
       "    <tr>\n",
       "      <th>16999</th>\n",
       "      <td>1820.0</td>\n",
       "      <td>806.0</td>\n",
       "      <td>270.0</td>\n",
       "      <td>300.0</td>\n",
       "    </tr>\n",
       "  </tbody>\n",
       "</table>\n",
       "<p>17000 rows × 4 columns</p>\n",
       "</div>"
      ],
      "text/plain": [
       "       total_rooms  population  households  bedrooms\n",
       "0           5612.0      1015.0       472.0    1283.0\n",
       "1           7650.0      1129.0       463.0    1901.0\n",
       "2            720.0       333.0       117.0     174.0\n",
       "3           1501.0       515.0       226.0     337.0\n",
       "4           1454.0       624.0       262.0     326.0\n",
       "...            ...         ...         ...       ...\n",
       "16995       2217.0       907.0       369.0     394.0\n",
       "16996       2349.0      1194.0       465.0     528.0\n",
       "16997       2677.0      1244.0       456.0     531.0\n",
       "16998       2672.0      1298.0       478.0     552.0\n",
       "16999       1820.0       806.0       270.0     300.0\n",
       "\n",
       "[17000 rows x 4 columns]"
      ]
     },
     "execution_count": 16,
     "metadata": {},
     "output_type": "execute_result"
    }
   ],
   "source": [
    "bedrooms = df['total_bedrooms']\n",
    "df = df.drop(['total_bedrooms', 'longitude', 'latitude', 'housing_median_age', 'median_income', 'median_house_value'], axis=1) # keeping the ones with a strong correlation\n",
    "df['bedrooms'] = bedrooms\n",
    "df"
   ]
  },
  {
   "cell_type": "code",
   "execution_count": 17,
   "metadata": {},
   "outputs": [
    {
     "data": {
      "image/png": "[encoded data removed]",
      "text/plain": [
       "<Figure size 640x480 with 1 Axes>"
      ]
     },
     "metadata": {},
     "output_type": "display_data"
    }
   ],
   "source": [
    "import matplotlib.pyplot as plt\n",
    "\n",
    "plt.scatter(df['total_rooms'], df['bedrooms'])\n",
    "plt.xlabel('Total Rooms')\n",
    "plt.ylabel('Total Bedrooms')\n",
    "plt.show()"
   ]
  },
  {
   "cell_type": "code",
   "execution_count": 18,
   "metadata": {},
   "outputs": [
    {
     "data": {
      "image/png": "[encoded data removed]",
      "text/plain": [
       "<Figure size 640x480 with 1 Axes>"
      ]
     },
     "metadata": {},
     "output_type": "display_data"
    }
   ],
   "source": [
    "import matplotlib.pyplot as plt\n",
    "\n",
    "plt.scatter(df['total_rooms'], df['bedrooms'])\n",
    "plt.xlabel('population')\n",
    "plt.ylabel('Total Bedrooms')\n",
    "plt.show()"
   ]
  },
  {
   "cell_type": "code",
   "execution_count": 19,
   "metadata": {},
   "outputs": [
    {
     "data": {
      "image/png": "[encoded data removed]",
      "text/plain": [
       "<Figure size 640x480 with 1 Axes>"
      ]
     },
     "metadata": {},
     "output_type": "display_data"
    }
   ],
   "source": [
    "import matplotlib.pyplot as plt\n",
    "\n",
    "plt.scatter(df['total_rooms'], df['bedrooms'])\n",
    "plt.xlabel('households')\n",
    "plt.ylabel('Total Bedrooms')\n",
    "plt.show()"
   ]
  },
  {
   "cell_type": "code",
   "execution_count": 20,
   "metadata": {},
   "outputs": [
    {
     "data": {
      "text/plain": [
       "(17000, 4)"
      ]
     },
     "execution_count": 20,
     "metadata": {},
     "output_type": "execute_result"
    }
   ],
   "source": [
    "df_np = df.to_numpy()\n",
    "df_np.shape\n",
    "\n",
    "# In this code, the method .to_numpy() is used to convert a DataFrame (df) into a NumPy array, and then .shape is used to get the dimensions of that array.\n",
    "\n",
    "# Explanation\n",
    "# df.to_numpy() converts the DataFrame df into a NumPy array. This can be useful for numerical operations that are easier to perform with NumPy than with a DataFrame.\n",
    "# df_np.shape returns the shape of the df_np array. The shape is given as a tuple with the format (rows, columns), indicating the number of rows and columns in the array."
   ]
  },
  {
   "cell_type": "code",
   "execution_count": 21,
   "metadata": {},
   "outputs": [
    {
     "data": {
      "text/plain": [
       "((17000, 3), (17000,))"
      ]
     },
     "execution_count": 21,
     "metadata": {},
     "output_type": "execute_result"
    }
   ],
   "source": [
    "X_train, y_train = df_np[:, :3], df_np[:, -1]\n",
    "X_train.shape, y_train.shape\n",
    "\n",
    "# Slicing:\n",
    "\n",
    "# df_np[:, :3]: This selects all rows (:) and the first three columns (:3) of df_np for X_train.\n",
    "# df_np[:, -1]: This selects all rows (:) and only the last column (-1) of df_np for y_train.\n",
    "# Assignment:\n",
    "\n",
    "# X_train = df_np[:, :3]: This assigns the first three columns of df_np (all rows) to X_train. These columns are typically used as the feature variables for training.\n",
    "# y_train = df_np[:, -1]: This assigns the last column of df_np (all rows) to y_train, which is typically the target variable for training.\n",
    "# Shape Output:\n",
    "\n",
    "# X_train.shape: Returns the shape of X_train, giving a tuple with (number of rows, number of columns in X_train).\n",
    "# y_train.shape: Returns the shape of y_train, which would be (number of rows,) since it contains a single column."
   ]
  },
  {
   "cell_type": "code",
   "execution_count": 22,
   "metadata": {},
   "outputs": [
    {
     "data": {
      "text/plain": [
       "array([[5612., 1015.,  472.],\n",
       "       [7650., 1129.,  463.],\n",
       "       [ 720.,  333.,  117.],\n",
       "       ...,\n",
       "       [2677., 1244.,  456.],\n",
       "       [2672., 1298.,  478.],\n",
       "       [1820.,  806.,  270.]])"
      ]
     },
     "execution_count": 22,
     "metadata": {},
     "output_type": "execute_result"
    }
   ],
   "source": [
    "X_train"
   ]
  },
  {
   "cell_type": "code",
   "execution_count": 25,
   "metadata": {},
   "outputs": [
    {
     "data": {
      "text/plain": [
       "array([631.82986004, 693.11956219, 130.849378  , ..., 502.56126019,\n",
       "       522.07260277, 304.4499167 ])"
      ]
     },
     "execution_count": 25,
     "metadata": {},
     "output_type": "execute_result"
    }
   ],
   "source": [
    "from sklearn.linear_model import LinearRegression\n",
    "\n",
    "sklearn_model = LinearRegression().fit(X_train, y_train) # takes the input and output array for training\n",
    "sklearn_y_predictions = sklearn_model.predict(X_train) # uses model to make prediction on features of X_train\n",
    "sklearn_y_predictions.shape\n",
    "sklearn_y_predictions"
   ]
  },
  {
   "cell_type": "code",
   "execution_count": 31,
   "metadata": {},
   "outputs": [
    {
     "data": {
      "text/plain": [
       "(np.float64(39.67221765070663), np.float64(75.17068459291747))"
      ]
     },
     "execution_count": 31,
     "metadata": {},
     "output_type": "execute_result"
    }
   ],
   "source": [
    "from sklearn.metrics import mean_absolute_error,root_mean_squared_error\n",
    "\n",
    "mean_absolute_error(sklearn_y_predictions, y_train), root_mean_squared_error(sklearn_y_predictions, y_train) # finding the error between the training set and the predicted set\n",
    "# print(\"Mean of y_train:\", np.mean(y_train))\n",
    "# print(\"Standard deviation of y_train:\", np.std(y_train))"
   ]
  },
  {
   "cell_type": "code",
   "execution_count": 32,
   "metadata": {},
   "outputs": [
    {
     "data": {
      "text/html": [
       "<div>\n",
       "<style scoped>\n",
       "    .dataframe tbody tr th:only-of-type {\n",
       "        vertical-align: middle;\n",
       "    }\n",
       "\n",
       "    .dataframe tbody tr th {\n",
       "        vertical-align: top;\n",
       "    }\n",
       "\n",
       "    .dataframe thead th {\n",
       "        text-align: right;\n",
       "    }\n",
       "</style>\n",
       "<table border=\"1\" class=\"dataframe\">\n",
       "  <thead>\n",
       "    <tr style=\"text-align: right;\">\n",
       "      <th></th>\n",
       "      <th>Population</th>\n",
       "      <th>Households</th>\n",
       "      <th>Total Rooms</th>\n",
       "      <th>Bedrooms</th>\n",
       "      <th>Sklearn Bedroom Predictions</th>\n",
       "    </tr>\n",
       "  </thead>\n",
       "  <tbody>\n",
       "    <tr>\n",
       "      <th>0</th>\n",
       "      <td>1015.0</td>\n",
       "      <td>472.0</td>\n",
       "      <td>5612.0</td>\n",
       "      <td>1283.0</td>\n",
       "      <td>631.829860</td>\n",
       "    </tr>\n",
       "    <tr>\n",
       "      <th>1</th>\n",
       "      <td>1129.0</td>\n",
       "      <td>463.0</td>\n",
       "      <td>7650.0</td>\n",
       "      <td>1901.0</td>\n",
       "      <td>693.119562</td>\n",
       "    </tr>\n",
       "    <tr>\n",
       "      <th>2</th>\n",
       "      <td>333.0</td>\n",
       "      <td>117.0</td>\n",
       "      <td>720.0</td>\n",
       "      <td>174.0</td>\n",
       "      <td>130.849378</td>\n",
       "    </tr>\n",
       "    <tr>\n",
       "      <th>3</th>\n",
       "      <td>515.0</td>\n",
       "      <td>226.0</td>\n",
       "      <td>1501.0</td>\n",
       "      <td>337.0</td>\n",
       "      <td>259.462982</td>\n",
       "    </tr>\n",
       "    <tr>\n",
       "      <th>4</th>\n",
       "      <td>624.0</td>\n",
       "      <td>262.0</td>\n",
       "      <td>1454.0</td>\n",
       "      <td>326.0</td>\n",
       "      <td>289.315311</td>\n",
       "    </tr>\n",
       "    <tr>\n",
       "      <th>...</th>\n",
       "      <td>...</td>\n",
       "      <td>...</td>\n",
       "      <td>...</td>\n",
       "      <td>...</td>\n",
       "      <td>...</td>\n",
       "    </tr>\n",
       "    <tr>\n",
       "      <th>16995</th>\n",
       "      <td>907.0</td>\n",
       "      <td>369.0</td>\n",
       "      <td>2217.0</td>\n",
       "      <td>394.0</td>\n",
       "      <td>412.047168</td>\n",
       "    </tr>\n",
       "    <tr>\n",
       "      <th>16996</th>\n",
       "      <td>1194.0</td>\n",
       "      <td>465.0</td>\n",
       "      <td>2349.0</td>\n",
       "      <td>528.0</td>\n",
       "      <td>501.086730</td>\n",
       "    </tr>\n",
       "    <tr>\n",
       "      <th>16997</th>\n",
       "      <td>1244.0</td>\n",
       "      <td>456.0</td>\n",
       "      <td>2677.0</td>\n",
       "      <td>531.0</td>\n",
       "      <td>502.561260</td>\n",
       "    </tr>\n",
       "    <tr>\n",
       "      <th>16998</th>\n",
       "      <td>1298.0</td>\n",
       "      <td>478.0</td>\n",
       "      <td>2672.0</td>\n",
       "      <td>552.0</td>\n",
       "      <td>522.072603</td>\n",
       "    </tr>\n",
       "    <tr>\n",
       "      <th>16999</th>\n",
       "      <td>806.0</td>\n",
       "      <td>270.0</td>\n",
       "      <td>1820.0</td>\n",
       "      <td>300.0</td>\n",
       "      <td>304.449917</td>\n",
       "    </tr>\n",
       "  </tbody>\n",
       "</table>\n",
       "<p>17000 rows × 5 columns</p>\n",
       "</div>"
      ],
      "text/plain": [
       "       Population  Households  Total Rooms  Bedrooms  \\\n",
       "0          1015.0       472.0       5612.0    1283.0   \n",
       "1          1129.0       463.0       7650.0    1901.0   \n",
       "2           333.0       117.0        720.0     174.0   \n",
       "3           515.0       226.0       1501.0     337.0   \n",
       "4           624.0       262.0       1454.0     326.0   \n",
       "...           ...         ...          ...       ...   \n",
       "16995       907.0       369.0       2217.0     394.0   \n",
       "16996      1194.0       465.0       2349.0     528.0   \n",
       "16997      1244.0       456.0       2677.0     531.0   \n",
       "16998      1298.0       478.0       2672.0     552.0   \n",
       "16999       806.0       270.0       1820.0     300.0   \n",
       "\n",
       "       Sklearn Bedroom Predictions  \n",
       "0                       631.829860  \n",
       "1                       693.119562  \n",
       "2                       130.849378  \n",
       "3                       259.462982  \n",
       "4                       289.315311  \n",
       "...                            ...  \n",
       "16995                   412.047168  \n",
       "16996                   501.086730  \n",
       "16997                   502.561260  \n",
       "16998                   522.072603  \n",
       "16999                   304.449917  \n",
       "\n",
       "[17000 rows x 5 columns]"
      ]
     },
     "execution_count": 32,
     "metadata": {},
     "output_type": "execute_result"
    }
   ],
   "source": [
    "predictions_df = pd.DataFrame({'Population': df['population'],\n",
    "                               'Households': df['households'],\n",
    "                               'Total Rooms': df['total_rooms'],\n",
    "                               'Bedrooms': df['bedrooms'],\n",
    "                               'Sklearn Bedroom Predictions':sklearn_y_predictions})\n",
    "predictions_df"
   ]
  },
  {
   "cell_type": "code",
   "execution_count": null,
   "metadata": {},
   "outputs": [
    {
     "data": {
      "text/plain": [
       "(np.float64(39.67221765070663), np.float64(75.17068459291747))"
      ]
     },
     "metadata": {},
     "output_type": "display_data"
    }
   ],
   "source": [
    "from sklearn.metrics import mean_absolute_error,root_mean_squared_error\n",
    "\n",
    "mean_absolute_error(sklearn_y_predictions, y_train), root_mean_squared_error(sklearn_y_predictions, y_train) # finding the error between the training set and the predicted set\n",
    "# print(\"Mean of y_train:\", np.mean(y_train))\n",
    "# print(\"Standard deviation of y_train:\", np.std(y_train))"
   ]
  },
  {
   "cell_type": "code",
   "execution_count": 34,
   "metadata": {},
   "outputs": [],
   "source": [
    "# Assuming total_bedrooms[i] = alpha + (beta_1 * population[i]) + (beta_2 * households[i]) + (beta_3 * total_rooms[i]) + error\n",
    "# Generally: y[i] = alpha + (beta_1 * x_1[i]) + (beta_2 * x_2[i]) + (beta_3 * x_3[i]) + error\n",
    "# Model:     y_hat[i] = alpha_hat + (beta_1_hat * x_1[i]) + (beta_2_hat * x_2[i]) + (beta_3_hat * x_3[i])\n",
    "\n",
    "def get_predictions(model, X):\n",
    "  '''\n",
    "  Obtain the predictions for the given model and inputs.\n",
    "\n",
    "  model: np.array of Floats with shape (p,) of parameters\n",
    "  X: np.array of Floats with shape (n, p-1) of inputs\n",
    "  \n",
    "  Returns: np.array of Floats with shape (n,).\n",
    "  '''\n",
    "\n",
    "  (n, p_minus_one) = X.shape # this is because the parameters include alpha which is not in the x matrix\n",
    "  p = p_minus_one + 1\n",
    "\n",
    "  new_X = np.ones(shape=(n, p)) # creating a matrix of ones with n columns and p rows\n",
    "  new_X[:, 1:] = X # overidung everything apart fro the first column to be the values of X\n",
    "\n",
    "  return np.dot(new_X, model) # dot multiplication of the new_x and the model "
   ]
  },
  {
   "cell_type": "code",
   "execution_count": null,
   "metadata": {},
   "outputs": [
    {
     "data": {
      "text/plain": [
       "(17000,)"
      ]
     },
     "execution_count": 35,
     "metadata": {},
     "output_type": "execute_result"
    }
   ],
   "source": [
    "test_model = np.array([1, 1/4, 1/3, 1.2]) # 1 = alpha, 1/4 = beta_1, 1/3 = beta_2, 1.2 = beta_3\n",
    "get_predictions(test_model, X_train).shape"
   ]
  },
  {
   "cell_type": "code",
   "execution_count": null,
   "metadata": {},
   "outputs": [
    {
     "data": {
      "text/html": [
       "<div>\n",
       "<style scoped>\n",
       "    .dataframe tbody tr th:only-of-type {\n",
       "        vertical-align: middle;\n",
       "    }\n",
       "\n",
       "    .dataframe tbody tr th {\n",
       "        vertical-align: top;\n",
       "    }\n",
       "\n",
       "    .dataframe thead th {\n",
       "        text-align: right;\n",
       "    }\n",
       "</style>\n",
       "<table border=\"1\" class=\"dataframe\">\n",
       "  <thead>\n",
       "    <tr style=\"text-align: right;\">\n",
       "      <th></th>\n",
       "      <th>Population</th>\n",
       "      <th>Households</th>\n",
       "      <th>Total Rooms</th>\n",
       "      <th>Bedrooms</th>\n",
       "      <th>Sklearn Bedroom Predictions</th>\n",
       "      <th>Test Predictions</th>\n",
       "    </tr>\n",
       "  </thead>\n",
       "  <tbody>\n",
       "    <tr>\n",
       "      <th>0</th>\n",
       "      <td>1015.0</td>\n",
       "      <td>472.0</td>\n",
       "      <td>5612.0</td>\n",
       "      <td>1283.0</td>\n",
       "      <td>631.829860</td>\n",
       "      <td>2308.733333</td>\n",
       "    </tr>\n",
       "    <tr>\n",
       "      <th>1</th>\n",
       "      <td>1129.0</td>\n",
       "      <td>463.0</td>\n",
       "      <td>7650.0</td>\n",
       "      <td>1901.0</td>\n",
       "      <td>693.119562</td>\n",
       "      <td>2845.433333</td>\n",
       "    </tr>\n",
       "    <tr>\n",
       "      <th>2</th>\n",
       "      <td>333.0</td>\n",
       "      <td>117.0</td>\n",
       "      <td>720.0</td>\n",
       "      <td>174.0</td>\n",
       "      <td>130.849378</td>\n",
       "      <td>432.400000</td>\n",
       "    </tr>\n",
       "    <tr>\n",
       "      <th>3</th>\n",
       "      <td>515.0</td>\n",
       "      <td>226.0</td>\n",
       "      <td>1501.0</td>\n",
       "      <td>337.0</td>\n",
       "      <td>259.462982</td>\n",
       "      <td>819.116667</td>\n",
       "    </tr>\n",
       "    <tr>\n",
       "      <th>4</th>\n",
       "      <td>624.0</td>\n",
       "      <td>262.0</td>\n",
       "      <td>1454.0</td>\n",
       "      <td>326.0</td>\n",
       "      <td>289.315311</td>\n",
       "      <td>886.900000</td>\n",
       "    </tr>\n",
       "    <tr>\n",
       "      <th>...</th>\n",
       "      <td>...</td>\n",
       "      <td>...</td>\n",
       "      <td>...</td>\n",
       "      <td>...</td>\n",
       "      <td>...</td>\n",
       "      <td>...</td>\n",
       "    </tr>\n",
       "    <tr>\n",
       "      <th>16995</th>\n",
       "      <td>907.0</td>\n",
       "      <td>369.0</td>\n",
       "      <td>2217.0</td>\n",
       "      <td>394.0</td>\n",
       "      <td>412.047168</td>\n",
       "      <td>1300.383333</td>\n",
       "    </tr>\n",
       "    <tr>\n",
       "      <th>16996</th>\n",
       "      <td>1194.0</td>\n",
       "      <td>465.0</td>\n",
       "      <td>2349.0</td>\n",
       "      <td>528.0</td>\n",
       "      <td>501.086730</td>\n",
       "      <td>1544.250000</td>\n",
       "    </tr>\n",
       "    <tr>\n",
       "      <th>16997</th>\n",
       "      <td>1244.0</td>\n",
       "      <td>456.0</td>\n",
       "      <td>2677.0</td>\n",
       "      <td>531.0</td>\n",
       "      <td>502.561260</td>\n",
       "      <td>1632.116667</td>\n",
       "    </tr>\n",
       "    <tr>\n",
       "      <th>16998</th>\n",
       "      <td>1298.0</td>\n",
       "      <td>478.0</td>\n",
       "      <td>2672.0</td>\n",
       "      <td>552.0</td>\n",
       "      <td>522.072603</td>\n",
       "      <td>1675.266667</td>\n",
       "    </tr>\n",
       "    <tr>\n",
       "      <th>16999</th>\n",
       "      <td>806.0</td>\n",
       "      <td>270.0</td>\n",
       "      <td>1820.0</td>\n",
       "      <td>300.0</td>\n",
       "      <td>304.449917</td>\n",
       "      <td>1048.666667</td>\n",
       "    </tr>\n",
       "  </tbody>\n",
       "</table>\n",
       "<p>17000 rows × 6 columns</p>\n",
       "</div>"
      ],
      "text/plain": [
       "       Population  Households  Total Rooms  Bedrooms  \\\n",
       "0          1015.0       472.0       5612.0    1283.0   \n",
       "1          1129.0       463.0       7650.0    1901.0   \n",
       "2           333.0       117.0        720.0     174.0   \n",
       "3           515.0       226.0       1501.0     337.0   \n",
       "4           624.0       262.0       1454.0     326.0   \n",
       "...           ...         ...          ...       ...   \n",
       "16995       907.0       369.0       2217.0     394.0   \n",
       "16996      1194.0       465.0       2349.0     528.0   \n",
       "16997      1244.0       456.0       2677.0     531.0   \n",
       "16998      1298.0       478.0       2672.0     552.0   \n",
       "16999       806.0       270.0       1820.0     300.0   \n",
       "\n",
       "       Sklearn Bedroom Predictions  Test Predictions  \n",
       "0                       631.829860       2308.733333  \n",
       "1                       693.119562       2845.433333  \n",
       "2                       130.849378        432.400000  \n",
       "3                       259.462982        819.116667  \n",
       "4                       289.315311        886.900000  \n",
       "...                            ...               ...  \n",
       "16995                   412.047168       1300.383333  \n",
       "16996                   501.086730       1544.250000  \n",
       "16997                   502.561260       1632.116667  \n",
       "16998                   522.072603       1675.266667  \n",
       "16999                   304.449917       1048.666667  \n",
       "\n",
       "[17000 rows x 6 columns]"
      ]
     },
     "execution_count": 36,
     "metadata": {},
     "output_type": "execute_result"
    }
   ],
   "source": [
    "predictions_df['Test Predictions'] = get_predictions(test_model, X_train)\n",
    "predictions_df # creating a data frame which includes the original data set and the prediccted"
   ]
  },
  {
   "cell_type": "code",
   "execution_count": 37,
   "metadata": {},
   "outputs": [
    {
     "data": {
      "text/plain": [
       "np.float64(1200.4964323529412)"
      ]
     },
     "execution_count": 37,
     "metadata": {},
     "output_type": "execute_result"
    }
   ],
   "source": [
    "mean_absolute_error(predictions_df['Test Predictions'], y_train)"
   ]
  },
  {
   "cell_type": "code",
   "execution_count": 38,
   "metadata": {},
   "outputs": [],
   "source": [
    "# minimizing the error  using the \"Normal Equation\" approach\n",
    "# The Normal Equation gives the parameter values that minimize the squared differences between the predicted and actual values in one calculation. It's efficient when the number of features \n",
    "# 𝑝\n",
    "# p is relatively small.\n",
    "from numpy.linalg import inv #  importing the inverse\n",
    "\n",
    "def get_best_model(X, y):\n",
    "  '''\n",
    "  Returns the model with the parameters that minimize the MSE.\n",
    "\n",
    "  X: np.array of Floats with shape (n, p-1) of inputs\n",
    "  y: np.array of Floats with shape (n,) of observed outputs\n",
    "\n",
    "  Returns: np.array of shape (p,) representing the model.\n",
    "  '''\n",
    "\n",
    "  (n, p_minus_one) = X.shape\n",
    "  p = p_minus_one + 1\n",
    "\n",
    "  new_X = np.ones(shape=(n, p))\n",
    "  new_X[:, 1:] = X\n",
    "\n",
    "  return np.dot(np.dot(inv(np.dot(new_X.T, new_X)), new_X.T), y)"
   ]
  },
  {
   "cell_type": "code",
   "execution_count": 39,
   "metadata": {},
   "outputs": [
    {
     "data": {
      "text/html": [
       "<div>\n",
       "<style scoped>\n",
       "    .dataframe tbody tr th:only-of-type {\n",
       "        vertical-align: middle;\n",
       "    }\n",
       "\n",
       "    .dataframe tbody tr th {\n",
       "        vertical-align: top;\n",
       "    }\n",
       "\n",
       "    .dataframe thead th {\n",
       "        text-align: right;\n",
       "    }\n",
       "</style>\n",
       "<table border=\"1\" class=\"dataframe\">\n",
       "  <thead>\n",
       "    <tr style=\"text-align: right;\">\n",
       "      <th></th>\n",
       "      <th>Population</th>\n",
       "      <th>Households</th>\n",
       "      <th>Total Rooms</th>\n",
       "      <th>Bedrooms</th>\n",
       "      <th>Sklearn Bedroom Predictions</th>\n",
       "      <th>Test Predictions</th>\n",
       "      <th>Best Predictions</th>\n",
       "    </tr>\n",
       "  </thead>\n",
       "  <tbody>\n",
       "    <tr>\n",
       "      <th>0</th>\n",
       "      <td>1015.0</td>\n",
       "      <td>472.0</td>\n",
       "      <td>5612.0</td>\n",
       "      <td>1283.0</td>\n",
       "      <td>631.829860</td>\n",
       "      <td>2308.733333</td>\n",
       "      <td>631.829860</td>\n",
       "    </tr>\n",
       "    <tr>\n",
       "      <th>1</th>\n",
       "      <td>1129.0</td>\n",
       "      <td>463.0</td>\n",
       "      <td>7650.0</td>\n",
       "      <td>1901.0</td>\n",
       "      <td>693.119562</td>\n",
       "      <td>2845.433333</td>\n",
       "      <td>693.119562</td>\n",
       "    </tr>\n",
       "    <tr>\n",
       "      <th>2</th>\n",
       "      <td>333.0</td>\n",
       "      <td>117.0</td>\n",
       "      <td>720.0</td>\n",
       "      <td>174.0</td>\n",
       "      <td>130.849378</td>\n",
       "      <td>432.400000</td>\n",
       "      <td>130.849378</td>\n",
       "    </tr>\n",
       "    <tr>\n",
       "      <th>3</th>\n",
       "      <td>515.0</td>\n",
       "      <td>226.0</td>\n",
       "      <td>1501.0</td>\n",
       "      <td>337.0</td>\n",
       "      <td>259.462982</td>\n",
       "      <td>819.116667</td>\n",
       "      <td>259.462982</td>\n",
       "    </tr>\n",
       "    <tr>\n",
       "      <th>4</th>\n",
       "      <td>624.0</td>\n",
       "      <td>262.0</td>\n",
       "      <td>1454.0</td>\n",
       "      <td>326.0</td>\n",
       "      <td>289.315311</td>\n",
       "      <td>886.900000</td>\n",
       "      <td>289.315311</td>\n",
       "    </tr>\n",
       "    <tr>\n",
       "      <th>...</th>\n",
       "      <td>...</td>\n",
       "      <td>...</td>\n",
       "      <td>...</td>\n",
       "      <td>...</td>\n",
       "      <td>...</td>\n",
       "      <td>...</td>\n",
       "      <td>...</td>\n",
       "    </tr>\n",
       "    <tr>\n",
       "      <th>16995</th>\n",
       "      <td>907.0</td>\n",
       "      <td>369.0</td>\n",
       "      <td>2217.0</td>\n",
       "      <td>394.0</td>\n",
       "      <td>412.047168</td>\n",
       "      <td>1300.383333</td>\n",
       "      <td>412.047168</td>\n",
       "    </tr>\n",
       "    <tr>\n",
       "      <th>16996</th>\n",
       "      <td>1194.0</td>\n",
       "      <td>465.0</td>\n",
       "      <td>2349.0</td>\n",
       "      <td>528.0</td>\n",
       "      <td>501.086730</td>\n",
       "      <td>1544.250000</td>\n",
       "      <td>501.086730</td>\n",
       "    </tr>\n",
       "    <tr>\n",
       "      <th>16997</th>\n",
       "      <td>1244.0</td>\n",
       "      <td>456.0</td>\n",
       "      <td>2677.0</td>\n",
       "      <td>531.0</td>\n",
       "      <td>502.561260</td>\n",
       "      <td>1632.116667</td>\n",
       "      <td>502.561260</td>\n",
       "    </tr>\n",
       "    <tr>\n",
       "      <th>16998</th>\n",
       "      <td>1298.0</td>\n",
       "      <td>478.0</td>\n",
       "      <td>2672.0</td>\n",
       "      <td>552.0</td>\n",
       "      <td>522.072603</td>\n",
       "      <td>1675.266667</td>\n",
       "      <td>522.072603</td>\n",
       "    </tr>\n",
       "    <tr>\n",
       "      <th>16999</th>\n",
       "      <td>806.0</td>\n",
       "      <td>270.0</td>\n",
       "      <td>1820.0</td>\n",
       "      <td>300.0</td>\n",
       "      <td>304.449917</td>\n",
       "      <td>1048.666667</td>\n",
       "      <td>304.449917</td>\n",
       "    </tr>\n",
       "  </tbody>\n",
       "</table>\n",
       "<p>17000 rows × 7 columns</p>\n",
       "</div>"
      ],
      "text/plain": [
       "       Population  Households  Total Rooms  Bedrooms  \\\n",
       "0          1015.0       472.0       5612.0    1283.0   \n",
       "1          1129.0       463.0       7650.0    1901.0   \n",
       "2           333.0       117.0        720.0     174.0   \n",
       "3           515.0       226.0       1501.0     337.0   \n",
       "4           624.0       262.0       1454.0     326.0   \n",
       "...           ...         ...          ...       ...   \n",
       "16995       907.0       369.0       2217.0     394.0   \n",
       "16996      1194.0       465.0       2349.0     528.0   \n",
       "16997      1244.0       456.0       2677.0     531.0   \n",
       "16998      1298.0       478.0       2672.0     552.0   \n",
       "16999       806.0       270.0       1820.0     300.0   \n",
       "\n",
       "       Sklearn Bedroom Predictions  Test Predictions  Best Predictions  \n",
       "0                       631.829860       2308.733333        631.829860  \n",
       "1                       693.119562       2845.433333        693.119562  \n",
       "2                       130.849378        432.400000        130.849378  \n",
       "3                       259.462982        819.116667        259.462982  \n",
       "4                       289.315311        886.900000        289.315311  \n",
       "...                            ...               ...               ...  \n",
       "16995                   412.047168       1300.383333        412.047168  \n",
       "16996                   501.086730       1544.250000        501.086730  \n",
       "16997                   502.561260       1632.116667        502.561260  \n",
       "16998                   522.072603       1675.266667        522.072603  \n",
       "16999                   304.449917       1048.666667        304.449917  \n",
       "\n",
       "[17000 rows x 7 columns]"
      ]
     },
     "execution_count": 39,
     "metadata": {},
     "output_type": "execute_result"
    }
   ],
   "source": [
    "best_model = get_best_model(X_train, y_train)\n",
    "predictions_df['Best Predictions'] = get_predictions(best_model, X_train)\n",
    "predictions_df"
   ]
  },
  {
   "cell_type": "code",
   "execution_count": 41,
   "metadata": {},
   "outputs": [
    {
     "data": {
      "text/plain": [
       "(np.float64(39.67221765070596), np.float64(75.17068459291747))"
      ]
     },
     "execution_count": 41,
     "metadata": {},
     "output_type": "execute_result"
    }
   ],
   "source": [
    "mean_absolute_error(predictions_df['Best Predictions'], y_train), root_mean_squared_error(predictions_df['Best Predictions'], y_train)"
   ]
  }
 ],
 "metadata": {
  "kernelspec": {
   "display_name": "my_virtual_env",
   "language": "python",
   "name": "python3"
  },
  "language_info": {
   "codemirror_mode": {
    "name": "ipython",
    "version": 3
   },
   "file_extension": ".py",
   "mimetype": "text/x-python",
   "name": "python",
   "nbconvert_exporter": "python",
   "pygments_lexer": "ipython3",
   "version": "3.11.9"
  }
 },
 "nbformat": 4,
 "nbformat_minor": 2
}
